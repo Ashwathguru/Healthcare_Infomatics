{
 "cells": [
  {
   "cell_type": "code",
   "execution_count": 31,
   "metadata": {},
   "outputs": [],
   "source": [
    "import pydicom\n",
    "import dicom\n",
    "import os\n",
    "import numpy\n",
    "from matplotlib import pyplot, cm"
   ]
  },
  {
   "cell_type": "code",
   "execution_count": 47,
   "metadata": {},
   "outputs": [],
   "source": [
    "PathDicom = \"D:\\HI\\DCM_DIR\"\n",
    "lstFilesDCM = []  # create an empty list\n",
    "for dirName, subdirList, fileList in os.walk(PathDicom):\n",
    "    for filename in fileList:\n",
    "        if \".dcm\" in filename.lower():  # check whether the file's DICOM\n",
    "            lstFilesDCM.append(os.path.join(filename))\n",
    "#print(lstFilesDCM)\n",
    "file = open(\"DCM_IMAGE_DATA.txt\",\"w\")\n",
    "file.write('##################################'+'\\n')\n",
    "for file_name in lstFilesDCM:\n",
    "    file.write('########################################################'+'\\n')\n",
    "    file.write('FILE_NAME :'+file_name+'\\n')\n",
    "    g=pydicom.filereader.dcmread(\"000000.dcm\")\n",
    "    file.write('##############DETAILS####################'+'\\n')\n",
    "    file.write(str(g)+'\\n')\n",
    "    \n",
    "file.write('#######################################END OF REPORT'+'\\n')\n",
    "file.close()"
   ]
  },
  {
   "cell_type": "code",
   "execution_count": null,
   "metadata": {},
   "outputs": [],
   "source": []
  }
 ],
 "metadata": {
  "kernelspec": {
   "display_name": "Python 3",
   "language": "python",
   "name": "python3"
  },
  "language_info": {
   "codemirror_mode": {
    "name": "ipython",
    "version": 3
   },
   "file_extension": ".py",
   "mimetype": "text/x-python",
   "name": "python",
   "nbconvert_exporter": "python",
   "pygments_lexer": "ipython3",
   "version": "3.7.2"
  }
 },
 "nbformat": 4,
 "nbformat_minor": 2
}
